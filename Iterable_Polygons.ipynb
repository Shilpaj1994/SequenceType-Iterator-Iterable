{
  "nbformat": 4,
  "nbformat_minor": 0,
  "metadata": {
    "colab": {
      "name": "Iterable-Polygons.ipynb",
      "provenance": [],
      "collapsed_sections": []
    },
    "kernelspec": {
      "name": "python3",
      "display_name": "Python 3"
    },
    "language_info": {
      "name": "python"
    }
  },
  "cells": [
    {
      "cell_type": "markdown",
      "metadata": {
        "id": "tiOBLeNKwknU"
      },
      "source": [
        "## Imports"
      ]
    },
    {
      "cell_type": "code",
      "metadata": {
        "id": "YlBGXQNwizNO"
      },
      "source": [
        "# Standard Library Imports\n",
        "import math\n",
        "from operator import sub, mul, truediv\n",
        "from functools import lru_cache\n",
        "from collections import namedtuple\n",
        "from typing import Union"
      ],
      "execution_count": 1,
      "outputs": []
    },
    {
      "cell_type": "markdown",
      "metadata": {
        "id": "F69dqvLEwm-V"
      },
      "source": [
        "## Iterable - Polygons\n",
        "Code to make the Polygons class as Iterable"
      ]
    },
    {
      "cell_type": "code",
      "metadata": {
        "id": "ij4RMAX4i0u2"
      },
      "source": [
        "class Polygons:\n",
        "    \"\"\"\n",
        "    Class containing methods for a regular polygon\n",
        "    \"\"\"\n",
        "\n",
        "    def __init__(self, edges, circumradius) -> None:\n",
        "        \"\"\"\n",
        "        Constructor\n",
        "        :param edges: number_of_edges of largest circumscribed polygon\n",
        "        :param circumradius: common radius of a circle in which polygon is inscribed\n",
        "        \"\"\"\n",
        "        if not isinstance(edges, int) or edges <= 2:\n",
        "            raise ValueError(f\"Enter valid input for number of edges. It cannot be less than 3. Current value: {edges}\")\n",
        "        elif not isinstance(circumradius, int) or circumradius < 1:\n",
        "            raise ValueError(f\"Enter valid input for number of circumradius. It cannot be less than or equal to 1. \"\n",
        "                             f\"Current value: {circumradius}\")\n",
        "        else:\n",
        "            self.max_edges = edges\n",
        "            self.circumradius = circumradius\n",
        "\n",
        "            self._ratio_data = dict()\n",
        "            self._records = []\n",
        "\n",
        "            self._ratio_data = {edge: self._property_calculations(edge) for edge in range(3, edges + 1)}\n",
        "            self._index = 0\n",
        "\n",
        "    def __iter__(self):\n",
        "        \"\"\"\n",
        "        Method to\n",
        "        \"\"\"\n",
        "        return self.Iterator(self)\n",
        "\n",
        "    class Iterator:\n",
        "        \"\"\"\n",
        "        Iterator Class\n",
        "        \"\"\"\n",
        "        def __init__(self, obj):\n",
        "            \"\"\"\n",
        "            Constructor for Iterator\n",
        "            \"\"\"\n",
        "            self._obj = obj\n",
        "            self._index = 0\n",
        "\n",
        "        def __iter__(self):\n",
        "            \"\"\"\n",
        "            Iter method to make class as an Iterator\n",
        "            \"\"\"\n",
        "            return self\n",
        "\n",
        "        def __next__(self):\n",
        "            \"\"\"\n",
        "            Next method to access next element of the dataset\n",
        "            \"\"\"\n",
        "            if self._index >= len(self._obj):\n",
        "                raise StopIteration\n",
        "            else:\n",
        "                item = self._obj._records[self._index]\n",
        "                self._index += 1\n",
        "                return item\n",
        "\n",
        "    def __getitem__(self, index) -> Union[float, list]:\n",
        "        \"\"\"\n",
        "        Method to return the properties of a regular polygon\n",
        "        :param index: index number of a polygon considering polygon with 3 edges has 0 index\n",
        "        :return: NamedTuple or list of namedtuple containing the properties of regular polygon\n",
        "        \"\"\"\n",
        "        # Length of sequence considering polygons starts from triangle(i.e. edges=3)\n",
        "        length_of_sequence = self.max_edges - 2\n",
        "\n",
        "        if isinstance(index, int):\n",
        "            if index < 0:\n",
        "                index = length_of_sequence + index\n",
        "            if index < 0 or index > length_of_sequence:\n",
        "                raise IndexError\n",
        "            else:\n",
        "                return self._records[index]\n",
        "        else:\n",
        "            start, stop, step = index.indices(length_of_sequence)\n",
        "            rng = range(start, stop, step)\n",
        "            return [self._records[index] for index in rng]\n",
        "\n",
        "    @lru_cache(2 ** 10)\n",
        "    def _property_calculations(self, edges):\n",
        "        \"\"\"\n",
        "        Method to calculate all the property value for a regular polygon\n",
        "        :param edges: Number of edges for a polygon\n",
        "        :return: output of area:perimeter ratio\n",
        "        \"\"\"\n",
        "        # NamedTuple to store the record of data\n",
        "        PolygonData = namedtuple('PolygonData',\n",
        "                                 \"edges vertices interior_angle edge_length apothem area perimeter ratio\")\n",
        "        PolygonData.__doc__ = \"Data associated with a regular polygon inscribed in a circle\"\n",
        "        PolygonData.edges.__doc__ = \"Number of edges of a regular polygon\"\n",
        "        PolygonData.vertices.__doc__ = \"Number of vertices of a regular polygon\"\n",
        "        PolygonData.interior_angle.__doc__ = \"Interior angle of a regular polygon\"\n",
        "        PolygonData.edge_length.__doc__ = \"Edge length of a regular polygon\"\n",
        "        PolygonData.apothem.__doc__ = \"Apothem of a regular polygon\"\n",
        "        PolygonData.area.__doc__ = \"Area of a regular polygon\"\n",
        "        PolygonData.perimeter.__doc__ = \"Perimeter of a regular polygon\"\n",
        "        PolygonData.ratio.__doc__ = \"Ratio of area to perimeter for a regular polygon\"\n",
        "\n",
        "        # Calculate all the properties of polygon\n",
        "        _edges = edges\n",
        "        _vertices = _edges\n",
        "        _interior_angle = truediv(mul(sub(_edges, 2), 180), _edges)\n",
        "        _edge_length = mul(mul(2, self.circumradius), math.sin(truediv(math.pi, _edges)))\n",
        "        _apothem = mul(self.circumradius, math.cos(truediv(math.pi, _edges)))\n",
        "        _area = mul(mul(0.5, _edges), mul(_edge_length, _apothem))\n",
        "        _perimeter = mul(_edges, _edge_length)\n",
        "        _ratio = truediv(_area, _perimeter)\n",
        "\n",
        "        # Store all the data\n",
        "        self._records.append(PolygonData(edges=_edges, vertices=_vertices, interior_angle=_interior_angle,\n",
        "                                         edge_length=_edge_length, apothem=_apothem, area=_area, perimeter=_perimeter,\n",
        "                                         ratio=_ratio))\n",
        "        # Return the ratio of area:perimeter\n",
        "        return _ratio\n",
        "\n",
        "    def __repr__(self) -> str:\n",
        "        \"\"\"\n",
        "        Method returning a string representation of a class object\n",
        "        :return: String representation\n",
        "        \"\"\"\n",
        "        return f\"Regular Polygons with edges ranging from 3 to {self.max_edges} all inscribed in a circle of radius {self.circumradius}\"\n",
        "\n",
        "    def max_efficiency_polygon_edges(self) -> int:\n",
        "        \"\"\"\n",
        "        Method to return the edges value of a polygon with maximum efficiency of area:perimeter ratio\n",
        "        :return: number of edges of polygon with max efficiency\n",
        "        \"\"\"\n",
        "        max_ratio = max(self._ratio_data.values())\n",
        "        return list(self._ratio_data.keys())[list(self._ratio_data.values()).index(max_ratio)]\n",
        "\n",
        "    def __len__(self) -> int:\n",
        "        \"\"\"\n",
        "        Method to print total number of polygons in the sequence\n",
        "        :return: Length of an object\n",
        "        \"\"\"\n",
        "        return self.max_edges - 2"
      ],
      "execution_count": 2,
      "outputs": []
    },
    {
      "cell_type": "markdown",
      "metadata": {
        "id": "tMaXwS-6w4hY"
      },
      "source": [
        "## Create an Object of the class"
      ]
    },
    {
      "cell_type": "code",
      "metadata": {
        "id": "lbqFxO5mjJ03"
      },
      "source": [
        "# Create an instance of a class\n",
        "polygon_iterable = Polygons(25, 5)"
      ],
      "execution_count": 3,
      "outputs": []
    },
    {
      "cell_type": "markdown",
      "metadata": {
        "id": "cOKD0Ls9w71L"
      },
      "source": [
        "## For-loop execution"
      ]
    },
    {
      "cell_type": "code",
      "metadata": {
        "colab": {
          "base_uri": "https://localhost:8080/"
        },
        "id": "RrY_4Gg8jMlG",
        "outputId": "84f76e04-9844-49be-d401-617f30600a42"
      },
      "source": [
        "for polygon in polygon_iterable:\n",
        "    print(polygon)"
      ],
      "execution_count": 4,
      "outputs": [
        {
          "output_type": "stream",
          "text": [
            "PolygonData(edges=3, vertices=3, interior_angle=60.0, edge_length=8.660254037844386, apothem=2.5000000000000004, area=32.47595264191645, perimeter=25.980762113533157, ratio=1.2500000000000002)\n",
            "PolygonData(edges=4, vertices=4, interior_angle=90.0, edge_length=7.071067811865475, apothem=3.5355339059327378, area=50.0, perimeter=28.2842712474619, ratio=1.7677669529663689)\n",
            "PolygonData(edges=5, vertices=5, interior_angle=108.0, edge_length=5.877852522924732, apothem=4.045084971874737, area=59.4410322684471, perimeter=29.38926261462366, ratio=2.0225424859373686)\n",
            "PolygonData(edges=6, vertices=6, interior_angle=120.0, edge_length=4.999999999999999, apothem=4.330127018922194, area=64.9519052838329, perimeter=29.999999999999993, ratio=2.1650635094610973)\n",
            "PolygonData(edges=7, vertices=7, interior_angle=128.57142857142858, edge_length=4.3388373911755815, apothem=4.504844339512096, area=68.41025471595262, perimeter=30.37186173822907, ratio=2.252422169756048)\n",
            "PolygonData(edges=8, vertices=8, interior_angle=135.0, edge_length=3.826834323650898, apothem=4.619397662556434, area=70.71067811865476, perimeter=30.614674589207183, ratio=2.309698831278217)\n",
            "PolygonData(edges=9, vertices=9, interior_angle=140.0, edge_length=3.420201433256687, apothem=4.698463103929543, area=72.31360608973569, perimeter=30.781812899310182, ratio=2.3492315519647717)\n",
            "PolygonData(edges=10, vertices=10, interior_angle=144.0, edge_length=3.090169943749474, apothem=4.755282581475767, area=73.47315653655913, perimeter=30.90169943749474, ratio=2.3776412907378837)\n",
            "PolygonData(edges=11, vertices=11, interior_angle=147.27272727272728, edge_length=2.817325568414297, apothem=4.7974648680724865, area=74.33811240014465, perimeter=30.990581252557266, ratio=2.398732434036243)\n",
            "PolygonData(edges=12, vertices=12, interior_angle=150.0, edge_length=2.5881904510252074, apothem=4.8296291314453415, area=74.99999999999999, perimeter=31.05828541230249, ratio=2.4148145657226703)\n",
            "PolygonData(edges=13, vertices=13, interior_angle=152.30769230769232, edge_length=2.3931566428755775, apothem=4.85470908713026, area=75.51751545711238, perimeter=31.111036357382506, ratio=2.42735454356513)\n",
            "PolygonData(edges=14, vertices=14, interior_angle=154.28571428571428, edge_length=2.225209339563144, apothem=4.874639560909118, area=75.92965434557267, perimeter=31.152930753884014, ratio=2.437319780454559)\n",
            "PolygonData(edges=15, vertices=15, interior_angle=156.0, edge_length=2.079116908177593, apothem=4.8907380036690284, area=76.26312057671254, perimeter=31.186753622663897, ratio=2.4453690018345142)\n",
            "PolygonData(edges=16, vertices=16, interior_angle=157.5, edge_length=1.9509032201612824, apothem=4.903926402016152, area=76.53668647301794, perimeter=31.214451522580518, ratio=2.451963201008076)\n",
            "PolygonData(edges=17, vertices=17, interior_angle=158.8235294117647, edge_length=1.8374951781657034, apothem=4.914865498419509, area=76.76385406477002, perimeter=31.237418028816958, ratio=2.457432749209755)\n",
            "PolygonData(edges=18, vertices=18, interior_angle=160.0, edge_length=1.7364817766693033, apothem=4.92403876506104, area=76.95453224827546, perimeter=31.256671980047457, ratio=2.4620193825305203)\n",
            "PolygonData(edges=19, vertices=19, interior_angle=161.05263157894737, edge_length=1.6459459028073389, apothem=4.931806517013611, area=77.11612393611232, perimeter=31.27297215333944, ratio=2.4659032585068057)\n",
            "PolygonData(edges=20, vertices=20, interior_angle=162.0, edge_length=1.5643446504023086, apothem=4.938441702975689, area=77.25424859373686, perimeter=31.28689300804617, ratio=2.4692208514878446)\n",
            "PolygonData(edges=21, vertices=21, interior_angle=162.85714285714286, edge_length=1.4904226617617444, apothem=4.944154131125643, area=77.37323328286236, perimeter=31.298875896996634, ratio=2.4720770655628215)\n",
            "PolygonData(edges=22, vertices=22, interior_angle=163.63636363636363, edge_length=1.4231483827328515, apothem=4.949107209404663, area=77.47645313139317, perimeter=31.309264420122734, ratio=2.4745536047023315)\n",
            "PolygonData(edges=23, vertices=23, interior_angle=164.34782608695653, edge_length=1.3616664909624658, apothem=4.953429730181654, area=77.56657170764447, perimeter=31.318329292136713, ratio=2.476714865090827)\n",
            "PolygonData(edges=24, vertices=24, interior_angle=165.0, edge_length=1.3052619222005157, apothem=4.957224306869052, area=77.64571353075623, perimeter=31.326286132812378, ratio=2.4786121534345265)\n",
            "PolygonData(edges=25, vertices=25, interior_angle=165.6, edge_length=1.2533323356430426, apothem=4.9605735065723895, area=77.71558973901713, perimeter=31.333308391076066, ratio=2.4802867532861947)\n"
          ],
          "name": "stdout"
        }
      ]
    },
    {
      "cell_type": "markdown",
      "metadata": {
        "id": "SVElBIs3w_IO"
      },
      "source": [
        "## For-loop execution to prove the Iterable is not exhausted"
      ]
    },
    {
      "cell_type": "code",
      "metadata": {
        "colab": {
          "base_uri": "https://localhost:8080/"
        },
        "id": "HzK1NYfvjPhb",
        "outputId": "fdf65fb7-4bfa-4c75-e493-0bbde79242b0"
      },
      "source": [
        "for polygon in polygon_iterable:\n",
        "    print(polygon)"
      ],
      "execution_count": 5,
      "outputs": [
        {
          "output_type": "stream",
          "text": [
            "PolygonData(edges=3, vertices=3, interior_angle=60.0, edge_length=8.660254037844386, apothem=2.5000000000000004, area=32.47595264191645, perimeter=25.980762113533157, ratio=1.2500000000000002)\n",
            "PolygonData(edges=4, vertices=4, interior_angle=90.0, edge_length=7.071067811865475, apothem=3.5355339059327378, area=50.0, perimeter=28.2842712474619, ratio=1.7677669529663689)\n",
            "PolygonData(edges=5, vertices=5, interior_angle=108.0, edge_length=5.877852522924732, apothem=4.045084971874737, area=59.4410322684471, perimeter=29.38926261462366, ratio=2.0225424859373686)\n",
            "PolygonData(edges=6, vertices=6, interior_angle=120.0, edge_length=4.999999999999999, apothem=4.330127018922194, area=64.9519052838329, perimeter=29.999999999999993, ratio=2.1650635094610973)\n",
            "PolygonData(edges=7, vertices=7, interior_angle=128.57142857142858, edge_length=4.3388373911755815, apothem=4.504844339512096, area=68.41025471595262, perimeter=30.37186173822907, ratio=2.252422169756048)\n",
            "PolygonData(edges=8, vertices=8, interior_angle=135.0, edge_length=3.826834323650898, apothem=4.619397662556434, area=70.71067811865476, perimeter=30.614674589207183, ratio=2.309698831278217)\n",
            "PolygonData(edges=9, vertices=9, interior_angle=140.0, edge_length=3.420201433256687, apothem=4.698463103929543, area=72.31360608973569, perimeter=30.781812899310182, ratio=2.3492315519647717)\n",
            "PolygonData(edges=10, vertices=10, interior_angle=144.0, edge_length=3.090169943749474, apothem=4.755282581475767, area=73.47315653655913, perimeter=30.90169943749474, ratio=2.3776412907378837)\n",
            "PolygonData(edges=11, vertices=11, interior_angle=147.27272727272728, edge_length=2.817325568414297, apothem=4.7974648680724865, area=74.33811240014465, perimeter=30.990581252557266, ratio=2.398732434036243)\n",
            "PolygonData(edges=12, vertices=12, interior_angle=150.0, edge_length=2.5881904510252074, apothem=4.8296291314453415, area=74.99999999999999, perimeter=31.05828541230249, ratio=2.4148145657226703)\n",
            "PolygonData(edges=13, vertices=13, interior_angle=152.30769230769232, edge_length=2.3931566428755775, apothem=4.85470908713026, area=75.51751545711238, perimeter=31.111036357382506, ratio=2.42735454356513)\n",
            "PolygonData(edges=14, vertices=14, interior_angle=154.28571428571428, edge_length=2.225209339563144, apothem=4.874639560909118, area=75.92965434557267, perimeter=31.152930753884014, ratio=2.437319780454559)\n",
            "PolygonData(edges=15, vertices=15, interior_angle=156.0, edge_length=2.079116908177593, apothem=4.8907380036690284, area=76.26312057671254, perimeter=31.186753622663897, ratio=2.4453690018345142)\n",
            "PolygonData(edges=16, vertices=16, interior_angle=157.5, edge_length=1.9509032201612824, apothem=4.903926402016152, area=76.53668647301794, perimeter=31.214451522580518, ratio=2.451963201008076)\n",
            "PolygonData(edges=17, vertices=17, interior_angle=158.8235294117647, edge_length=1.8374951781657034, apothem=4.914865498419509, area=76.76385406477002, perimeter=31.237418028816958, ratio=2.457432749209755)\n",
            "PolygonData(edges=18, vertices=18, interior_angle=160.0, edge_length=1.7364817766693033, apothem=4.92403876506104, area=76.95453224827546, perimeter=31.256671980047457, ratio=2.4620193825305203)\n",
            "PolygonData(edges=19, vertices=19, interior_angle=161.05263157894737, edge_length=1.6459459028073389, apothem=4.931806517013611, area=77.11612393611232, perimeter=31.27297215333944, ratio=2.4659032585068057)\n",
            "PolygonData(edges=20, vertices=20, interior_angle=162.0, edge_length=1.5643446504023086, apothem=4.938441702975689, area=77.25424859373686, perimeter=31.28689300804617, ratio=2.4692208514878446)\n",
            "PolygonData(edges=21, vertices=21, interior_angle=162.85714285714286, edge_length=1.4904226617617444, apothem=4.944154131125643, area=77.37323328286236, perimeter=31.298875896996634, ratio=2.4720770655628215)\n",
            "PolygonData(edges=22, vertices=22, interior_angle=163.63636363636363, edge_length=1.4231483827328515, apothem=4.949107209404663, area=77.47645313139317, perimeter=31.309264420122734, ratio=2.4745536047023315)\n",
            "PolygonData(edges=23, vertices=23, interior_angle=164.34782608695653, edge_length=1.3616664909624658, apothem=4.953429730181654, area=77.56657170764447, perimeter=31.318329292136713, ratio=2.476714865090827)\n",
            "PolygonData(edges=24, vertices=24, interior_angle=165.0, edge_length=1.3052619222005157, apothem=4.957224306869052, area=77.64571353075623, perimeter=31.326286132812378, ratio=2.4786121534345265)\n",
            "PolygonData(edges=25, vertices=25, interior_angle=165.6, edge_length=1.2533323356430426, apothem=4.9605735065723895, area=77.71558973901713, perimeter=31.333308391076066, ratio=2.4802867532861947)\n"
          ],
          "name": "stdout"
        }
      ]
    }
  ]
}