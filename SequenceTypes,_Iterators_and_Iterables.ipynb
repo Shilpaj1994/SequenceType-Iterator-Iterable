{
  "nbformat": 4,
  "nbformat_minor": 0,
  "metadata": {
    "colab": {
      "name": "SequenceTypes, Iterators and Iterables.ipynb",
      "provenance": [],
      "collapsed_sections": []
    },
    "kernelspec": {
      "name": "python3",
      "display_name": "Python 3"
    },
    "language_info": {
      "name": "python"
    }
  },
  "cells": [
    {
      "cell_type": "markdown",
      "metadata": {
        "id": "SoXL8gamxPtH"
      },
      "source": [
        "## SequenceType - DataSet"
      ]
    },
    {
      "cell_type": "code",
      "metadata": {
        "id": "CKnF9TZtqmJn"
      },
      "source": [
        "class DataSetSequence:\n",
        "    \"\"\"\n",
        "    Class with functionalities of sequence types and iterables\n",
        "    \"\"\"\n",
        "    def __init__(self):\n",
        "        \"\"\"\n",
        "        Constructor\n",
        "        \"\"\"\n",
        "        self._raw_data = [\"Apple\", \"Mango\", \"Banana\", \"Pineapple\", \"Papaya\"]\n",
        "        \n",
        "    def __len__(self):\n",
        "        \"\"\"\n",
        "        Method to return the length of the object\n",
        "        \"\"\"\n",
        "        return len(self._raw_data)\n",
        "    \n",
        "    def __getitem__(self, index):\n",
        "        \"\"\"\n",
        "        Method to implement the indexing and slicing\n",
        "        \"\"\"\n",
        "        length_of_sequence = len(self._raw_data)\n",
        "        \n",
        "        if isinstance(index, int):\n",
        "            if index < 0:\n",
        "                index = length_of_sequence + index\n",
        "            if index < 0 or index > length_of_sequence:\n",
        "                raise IndexError\n",
        "            else:\n",
        "                return self._raw_data[index]\n",
        "        else:\n",
        "            start, stop, step = index.indices(length_of_sequence)\n",
        "            rng = range(start, stop, step)\n",
        "            return [self._raw_data[index] for index in rng]\n",
        "        "
      ],
      "execution_count": 1,
      "outputs": []
    },
    {
      "cell_type": "markdown",
      "metadata": {
        "id": "2FJtNFoUxdLQ"
      },
      "source": [
        "### Access elements of sequence-type by slicing and indexing "
      ]
    },
    {
      "cell_type": "code",
      "metadata": {
        "colab": {
          "base_uri": "https://localhost:8080/"
        },
        "id": "fU1pqdghqqK1",
        "outputId": "f9aa88d3-ad75-4080-80af-878bdf80c407"
      },
      "source": [
        "# Create an object of the class\n",
        "_object = DataSetSequence()\n",
        "\n",
        "# Access elements by indexing\n",
        "favourite_fruit = _object[1]\n",
        "print(favourite_fruit)\n",
        "\n",
        "# Access elements by slicing\n",
        "fruits_reverse = _object[::-1]\n",
        "print(fruits_reverse)"
      ],
      "execution_count": 2,
      "outputs": [
        {
          "output_type": "stream",
          "text": [
            "Mango\n",
            "['Papaya', 'Pineapple', 'Banana', 'Mango', 'Apple']\n"
          ],
          "name": "stdout"
        }
      ]
    },
    {
      "cell_type": "markdown",
      "metadata": {
        "id": "IIEDkH3EuDAK"
      },
      "source": [
        "---"
      ]
    },
    {
      "cell_type": "markdown",
      "metadata": {
        "id": "jlOR8f4Rxkp-"
      },
      "source": [
        "## Iterator - DataSet"
      ]
    },
    {
      "cell_type": "code",
      "metadata": {
        "id": "AdGJdWcDXtyt"
      },
      "source": [
        "class DataSetIterator:\n",
        "    \"\"\"\n",
        "    Class with functionalities of sequence types and iterables\n",
        "    \"\"\"\n",
        "    def __init__(self, length):\n",
        "        \"\"\"\n",
        "        Constructor\n",
        "        \"\"\"\n",
        "        self._raw_data = [\"Apple\", \"Mango\", \"Banana\", \"Pineapple\", \"Papaya\"]\n",
        "        self._index = 0\n",
        "        self.length = length\n",
        "    \n",
        "    def __next__(self):\n",
        "        \"\"\"\n",
        "        Method to access next element of the iterator\n",
        "        \"\"\"\n",
        "        if self._index >= self.length:\n",
        "            raise StopIteration\n",
        "        else:\n",
        "            result = self._raw_data[self._index]\n",
        "            self._index += 1\n",
        "            return result"
      ],
      "execution_count": 3,
      "outputs": []
    },
    {
      "cell_type": "code",
      "metadata": {
        "id": "tZEPckBtXwGr",
        "colab": {
          "base_uri": "https://localhost:8080/"
        },
        "outputId": "f89c7aa7-8bd4-48b0-f2f9-839696665a58"
      },
      "source": [
        "fruits = DataSetIterator(3)\n",
        "\n",
        "while True:\n",
        "  try:\n",
        "    print(next(fruits))\n",
        "  except StopIteration:\n",
        "    break"
      ],
      "execution_count": 4,
      "outputs": [
        {
          "output_type": "stream",
          "text": [
            "Apple\n",
            "Mango\n",
            "Banana\n"
          ],
          "name": "stdout"
        }
      ]
    },
    {
      "cell_type": "markdown",
      "metadata": {
        "id": "_80tXmK0z546"
      },
      "source": [
        "### Iterating over `for-loop`"
      ]
    },
    {
      "cell_type": "code",
      "metadata": {
        "colab": {
          "base_uri": "https://localhost:8080/",
          "height": 180
        },
        "id": "Ok2vRFARYYsI",
        "outputId": "17aecc04-92fc-4c9a-a09a-abacfbcdac2d"
      },
      "source": [
        "for fruit in fruits:\n",
        "  print(fruit)"
      ],
      "execution_count": 5,
      "outputs": [
        {
          "output_type": "error",
          "ename": "TypeError",
          "evalue": "ignored",
          "traceback": [
            "\u001b[0;31m---------------------------------------------------------------------------\u001b[0m",
            "\u001b[0;31mTypeError\u001b[0m                                 Traceback (most recent call last)",
            "\u001b[0;32m<ipython-input-5-efb9d877d46f>\u001b[0m in \u001b[0;36m<module>\u001b[0;34m()\u001b[0m\n\u001b[0;32m----> 1\u001b[0;31m \u001b[0;32mfor\u001b[0m \u001b[0mfruit\u001b[0m \u001b[0;32min\u001b[0m \u001b[0mfruits\u001b[0m\u001b[0;34m:\u001b[0m\u001b[0;34m\u001b[0m\u001b[0;34m\u001b[0m\u001b[0m\n\u001b[0m\u001b[1;32m      2\u001b[0m   \u001b[0mprint\u001b[0m\u001b[0;34m(\u001b[0m\u001b[0mfruit\u001b[0m\u001b[0;34m)\u001b[0m\u001b[0;34m\u001b[0m\u001b[0;34m\u001b[0m\u001b[0m\n",
            "\u001b[0;31mTypeError\u001b[0m: 'DataSetIterator' object is not iterable"
          ]
        }
      ]
    },
    {
      "cell_type": "markdown",
      "metadata": {
        "id": "aHoWv7rfz_al"
      },
      "source": [
        "- Since, it is not an Iterator, we cannot use it with `for-loop`\n",
        "- We need to implement `__iter__` method in order to make it Iterator"
      ]
    },
    {
      "cell_type": "code",
      "metadata": {
        "id": "51PP7c5prIgC"
      },
      "source": [
        "class DataSetIterator:\n",
        "    \"\"\"\n",
        "    Class with functionalities of sequence types and iterables\n",
        "    \"\"\"\n",
        "    def __init__(self, length):\n",
        "        \"\"\"\n",
        "        Constructor\n",
        "        \"\"\"\n",
        "        self._raw_data = [\"Apple\", \"Mango\", \"Banana\", \"Pineapple\", \"Papaya\"]\n",
        "        self._index = 0\n",
        "        self.length = length\n",
        "                \n",
        "    def __iter__(self):\n",
        "        \"\"\"\n",
        "        Method to make the class iterator\n",
        "        \"\"\"\n",
        "        return self\n",
        "    \n",
        "    def __next__(self):\n",
        "        \"\"\"\n",
        "        Method to access next element of the iterator\n",
        "        \"\"\"\n",
        "        if self._index >= self.length:\n",
        "            raise StopIteration\n",
        "        else:\n",
        "            result = self._raw_data[self._index]\n",
        "            self._index += 1\n",
        "            return result"
      ],
      "execution_count": 6,
      "outputs": []
    },
    {
      "cell_type": "markdown",
      "metadata": {
        "id": "RHIRay-10X9H"
      },
      "source": [
        "### Create an object of the class"
      ]
    },
    {
      "cell_type": "code",
      "metadata": {
        "id": "-s3KLbhjqrV1"
      },
      "source": [
        "some_obj = DataSetIterator(3)"
      ],
      "execution_count": 7,
      "outputs": []
    },
    {
      "cell_type": "markdown",
      "metadata": {
        "id": "yZI8yaZR0cNY"
      },
      "source": [
        "### Check if class is an Iterator"
      ]
    },
    {
      "cell_type": "code",
      "metadata": {
        "colab": {
          "base_uri": "https://localhost:8080/"
        },
        "id": "CpPfzsQ-uox9",
        "outputId": "2f5d79c1-7ed1-42dc-8beb-1e630288b7e6"
      },
      "source": [
        "from collections.abc import Iterator, Iterable\n",
        "\n",
        "print(f\"Object is Iterator: {isinstance(some_obj, Iterator)}\")"
      ],
      "execution_count": 8,
      "outputs": [
        {
          "output_type": "stream",
          "text": [
            "Object is Iterator: True\n"
          ],
          "name": "stdout"
        }
      ]
    },
    {
      "cell_type": "markdown",
      "metadata": {
        "id": "u6Ps3DVs0h33"
      },
      "source": [
        "### Use Iterator with `for-loop`"
      ]
    },
    {
      "cell_type": "code",
      "metadata": {
        "colab": {
          "base_uri": "https://localhost:8080/"
        },
        "id": "IhLWLViCqvoX",
        "outputId": "6b040f38-5561-44f7-e073-51f32662119d"
      },
      "source": [
        "for data in some_obj:\n",
        "  print(data)"
      ],
      "execution_count": 9,
      "outputs": [
        {
          "output_type": "stream",
          "text": [
            "Apple\n",
            "Mango\n",
            "Banana\n"
          ],
          "name": "stdout"
        }
      ]
    },
    {
      "cell_type": "markdown",
      "metadata": {
        "id": "YW-w2u4w0tWd"
      },
      "source": [
        "### Use Iterator with `for-loop` again"
      ]
    },
    {
      "cell_type": "code",
      "metadata": {
        "id": "b8b-_k3Cqzu8"
      },
      "source": [
        "for data in some_obj:\n",
        "  print(data)"
      ],
      "execution_count": 10,
      "outputs": []
    },
    {
      "cell_type": "markdown",
      "metadata": {
        "id": "M-xgkm2X0vvy"
      },
      "source": [
        "- Nothing is printed since the Iterator is **Exhausted**\n",
        "- To solve this problem, we have to convert the Iterator to Iterable"
      ]
    },
    {
      "cell_type": "markdown",
      "metadata": {
        "id": "Amf-6Ra2uSKt"
      },
      "source": [
        "---"
      ]
    },
    {
      "cell_type": "markdown",
      "metadata": {
        "id": "IP5hLsFYyTju"
      },
      "source": [
        "## Iterable - DataSet\n",
        "\n",
        "- Added sub-class of an Iterator which takes in instance of the main class\n",
        "- The `__iter__` method of the main class returns the Iterator class\n",
        "- This way an Iterator is converted into an Iterable"
      ]
    },
    {
      "cell_type": "code",
      "metadata": {
        "id": "oOa8wCViq2xM"
      },
      "source": [
        "class DataSetIterable:\n",
        "    \"\"\"\n",
        "    Class with functionalities of sequence types and iterables\n",
        "    \"\"\"\n",
        "    def __init__(self):\n",
        "        \"\"\"\n",
        "        Constructor\n",
        "        \"\"\"\n",
        "        self._raw_data = [\"Apple\", \"Mango\", \"Banana\", \"Pineapple\", \"Papaya\"]\n",
        "        \n",
        "    def __len__(self):\n",
        "        \"\"\"\n",
        "        Dundet method to implement length of an object\n",
        "        \"\"\"\n",
        "        return len(self._raw_data)\n",
        "\n",
        "    def __iter__(self):\n",
        "        \"\"\"\n",
        "        Method to make the class Iterable\n",
        "        \"\"\"\n",
        "        return self.Iterator(self)\n",
        "        \n",
        "    class Iterator:\n",
        "        \"\"\"\n",
        "        Iterator Class\n",
        "        \"\"\"\n",
        "        def __init__(self, obj):\n",
        "            \"\"\"\n",
        "            Constructor for Iterator\n",
        "            \"\"\"\n",
        "            self._obj = obj\n",
        "            self._index = 0\n",
        "\n",
        "        def __iter__(self):\n",
        "            \"\"\"\n",
        "            Iter method to make class as an Iterator\n",
        "            \"\"\"\n",
        "            return self\n",
        "    \n",
        "        def __next__(self):\n",
        "            \"\"\"\n",
        "            Method to access next element of the iterator\n",
        "            \"\"\"\n",
        "            if self._index >= len(self._obj):\n",
        "                raise StopIteration\n",
        "            else:\n",
        "                result = self._obj._raw_data[self._index]\n",
        "                self._index += 1\n",
        "                return result"
      ],
      "execution_count": 11,
      "outputs": []
    },
    {
      "cell_type": "markdown",
      "metadata": {
        "id": "PRggz2c01xDk"
      },
      "source": [
        "### Create an instance of class"
      ]
    },
    {
      "cell_type": "code",
      "metadata": {
        "id": "2lSuwp1SuU9B"
      },
      "source": [
        "iterable_obj = DataSetIterable()"
      ],
      "execution_count": 12,
      "outputs": []
    },
    {
      "cell_type": "markdown",
      "metadata": {
        "id": "jLxRQ3Ht10Li"
      },
      "source": [
        "### Check if the class is Iterable and not Iterator"
      ]
    },
    {
      "cell_type": "code",
      "metadata": {
        "colab": {
          "base_uri": "https://localhost:8080/"
        },
        "id": "9BDvls3jvpV5",
        "outputId": "36872ecb-4298-45a5-8c50-5d79b791958d"
      },
      "source": [
        "from collections.abc import Iterator, Iterable\n",
        "\n",
        "print(f\"Object is Iterator: {isinstance(iterable_obj, Iterator)}\")\n",
        "print(f\"Object is Iterable: {isinstance(iterable_obj, Iterable)}\")"
      ],
      "execution_count": 13,
      "outputs": [
        {
          "output_type": "stream",
          "text": [
            "Object is Iterator: False\n",
            "Object is Iterable: True\n"
          ],
          "name": "stdout"
        }
      ]
    },
    {
      "cell_type": "markdown",
      "metadata": {
        "id": "zX3nCxGA15VP"
      },
      "source": [
        "### Use Iterable with `for-loop`"
      ]
    },
    {
      "cell_type": "code",
      "metadata": {
        "colab": {
          "base_uri": "https://localhost:8080/"
        },
        "id": "inreqTqCvsNq",
        "outputId": "8207e70f-e2c4-4329-fccf-2413c52332c8"
      },
      "source": [
        "for data in iterable_obj:\n",
        "  print(data)"
      ],
      "execution_count": 14,
      "outputs": [
        {
          "output_type": "stream",
          "text": [
            "Apple\n",
            "Mango\n",
            "Banana\n",
            "Pineapple\n",
            "Papaya\n"
          ],
          "name": "stdout"
        }
      ]
    },
    {
      "cell_type": "markdown",
      "metadata": {
        "id": "sXmKIv0y1_nl"
      },
      "source": [
        "### Use Iterable with `for-loop`"
      ]
    },
    {
      "cell_type": "code",
      "metadata": {
        "colab": {
          "base_uri": "https://localhost:8080/"
        },
        "id": "nwMnevv2v0de",
        "outputId": "9c5a71b3-22f5-42b9-fdb4-51b2f0c07808"
      },
      "source": [
        "for data in iterable_obj:\n",
        "  print(data)"
      ],
      "execution_count": 15,
      "outputs": [
        {
          "output_type": "stream",
          "text": [
            "Apple\n",
            "Mango\n",
            "Banana\n",
            "Pineapple\n",
            "Papaya\n"
          ],
          "name": "stdout"
        }
      ]
    },
    {
      "cell_type": "markdown",
      "metadata": {
        "id": "8tPXjG0C2A7u"
      },
      "source": [
        "Now, we can access data without exhausting the Iterator"
      ]
    }
  ]
}